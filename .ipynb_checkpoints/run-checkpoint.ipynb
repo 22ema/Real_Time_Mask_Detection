{
 "cells": [
  {
   "cell_type": "code",
   "execution_count": null,
   "metadata": {},
   "outputs": [],
   "source": [
    "import os\n",
    "from Video_inference.video_inference import *\n",
    "PATH = os.getcwd()\n",
    "if __name__ ==\"__main__\":\n",
    "    video = './media/test_video/London_test.mp4'\n",
    "    video_inference(video)"
   ]
  }
 ],
 "metadata": {
  "kernelspec": {
   "display_name": "Python 3",
   "language": "python",
   "name": "python3"
  },
  "language_info": {
   "codemirror_mode": {
    "name": "ipython",
    "version": 3
   },
   "file_extension": ".py",
   "mimetype": "text/x-python",
   "name": "python",
   "nbconvert_exporter": "python",
   "pygments_lexer": "ipython3",
   "version": "3.6.9"
  }
 },
 "nbformat": 4,
 "nbformat_minor": 2
}
